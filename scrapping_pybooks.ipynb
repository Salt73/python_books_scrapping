{
  "cells": [
    {
      "cell_type": "code",
      "execution_count": 78,
      "id": "9b5b90ab",
      "metadata": {
        "id": "9b5b90ab"
      },
      "outputs": [],
      "source": [
        "import requests\n",
        "from bs4 import BeautifulSoup\n",
        "import numpy as np\n",
        "import pandas as pd"
      ]
    },
    {
      "cell_type": "code",
      "execution_count": 79,
      "id": "9fbffe70",
      "metadata": {
        "id": "9fbffe70"
      },
      "outputs": [],
      "source": [
        "url = \"https://www.pdfdrive.com/python-books.html\"\n",
        "page = requests.get(url,headers={'User-Agent':'Mozilla/5.0'})\n",
        "soup = BeautifulSoup(page.content,\"html.parser\")\n"
      ]
    },
    {
      "cell_type": "code",
      "execution_count": 80,
      "id": "97bea19c",
      "metadata": {
        "id": "97bea19c"
      },
      "outputs": [],
      "source": [
        "book_names = []\n",
        "book_name = soup.find_all(\"h2\")"
      ]
    },
    {
      "cell_type": "code",
      "execution_count": 81,
      "id": "4c576bb9",
      "metadata": {
        "colab": {
          "base_uri": "https://localhost:8080/"
        },
        "id": "4c576bb9",
        "outputId": "ec73ccc6-7670-41ea-aa7b-4acf6523baa7"
      },
      "outputs": [
        {
          "output_type": "stream",
          "name": "stdout",
          "text": [
            "A Python Book: Beginning Python, Advanced Python, and Python \n",
            "Learn Python in One Day and Learn It Well: Python for Beginners with Hands-on Project. The only book you need to start coding in Python immediately\n",
            "Python Programming. Python Programming for Beginners, Python Programming for Intermediates\n",
            "automate the boring stuff with python automate the boring stuff with python\n",
            "Mastering Machine Learning with Python in Six Steps: A Practical Implementation Guide to Predictive Data Analytics Using Python\n",
            "Python Data Analytics: Data Analysis and Science Using Pandas, matplotlib, and the Python\n",
            "Gray hat Python : Python programming for hackers and reverse\n",
            "A Python Book: Beginning Python, Advanced Python, and Python Exercises\n",
            "Black hat Python : Python programming for hackers and pentesters\n",
            "PYTHON PYTHON'S COMPANION, A STEP BY STEP GUIDE FOR BEGINNERS TO START CODING TODAY!\n",
            "Python Cookbook, 3rd Edition: Recipes for Mastering Python 3\n",
            "The Python Book: The ultimate guide to coding with Python\n",
            "The Python Book: The Ultimate Guide to Coding with Python\n",
            "Python Practical Python Programming For Beginners and Experts\n",
            "Data Analysis From Scratch With Python: Beginner Guide using Python, Pandas, NumPy, Scikit-Learn, IPython, TensorFlow and Matplotlib\n",
            "Python Algorithms: Mastering Basic Algorithms in the Python Language\n",
            "Gray Hat Python: Python Programming for Hackers and Reverse Engineers\n",
            " Practical Python Design Patterns: Pythonic Solutions to Common Problems\n",
            "Deep Learning in Python: Master Data Science and Machine Learning with Modern Neural Networks written in Python, Theano, and TensorFlow\n",
            "Python Pocket Reference, 5th Edition: Python in Your Pocket\n"
          ]
        }
      ],
      "source": [
        "for name in book_name:\n",
        "    print(name.text)\n",
        "    book_names.append(name.text.strip())"
      ]
    },
    {
      "cell_type": "code",
      "source": [
        "print(book_names)"
      ],
      "metadata": {
        "colab": {
          "base_uri": "https://localhost:8080/"
        },
        "id": "yBVvOyyJjUDT",
        "outputId": "a00d2b55-765f-4eb1-9c14-1c4508653095"
      },
      "id": "yBVvOyyJjUDT",
      "execution_count": 82,
      "outputs": [
        {
          "output_type": "stream",
          "name": "stdout",
          "text": [
            "['A Python Book: Beginning Python, Advanced Python, and Python', 'Learn Python in One Day and Learn It Well: Python for Beginners with Hands-on Project. The only book you need to start coding in Python immediately', 'Python Programming. Python Programming for Beginners, Python Programming for Intermediates', 'automate the boring stuff with python automate the boring stuff with python', 'Mastering Machine Learning with Python in Six Steps: A Practical Implementation Guide to Predictive Data Analytics Using Python', 'Python Data Analytics: Data Analysis and Science Using Pandas, matplotlib, and the Python', 'Gray hat Python : Python programming for hackers and reverse', 'A Python Book: Beginning Python, Advanced Python, and Python Exercises', 'Black hat Python : Python programming for hackers and pentesters', \"PYTHON PYTHON'S COMPANION, A STEP BY STEP GUIDE FOR BEGINNERS TO START CODING TODAY!\", 'Python Cookbook, 3rd Edition: Recipes for Mastering Python 3', 'The Python Book: The ultimate guide to coding with Python', 'The Python Book: The Ultimate Guide to Coding with Python', 'Python Practical Python Programming For Beginners and Experts', 'Data Analysis From Scratch With Python: Beginner Guide using Python, Pandas, NumPy, Scikit-Learn, IPython, TensorFlow and Matplotlib', 'Python Algorithms: Mastering Basic Algorithms in the Python Language', 'Gray Hat Python: Python Programming for Hackers and Reverse Engineers', 'Practical Python Design Patterns: Pythonic Solutions to Common Problems', 'Deep Learning in Python: Master Data Science and Machine Learning with Modern Neural Networks written in Python, Theano, and TensorFlow', 'Python Pocket Reference, 5th Edition: Python in Your Pocket']\n"
          ]
        }
      ]
    },
    {
      "cell_type": "code",
      "execution_count": 83,
      "id": "9590cced",
      "metadata": {
        "id": "9590cced"
      },
      "outputs": [],
      "source": [
        "pages_numbers = []\n",
        "pages_number = soup.find_all(\"span\",class_=\"fi-pagecount\")"
      ]
    },
    {
      "cell_type": "code",
      "execution_count": 84,
      "id": "f837a6d5",
      "metadata": {
        "colab": {
          "base_uri": "https://localhost:8080/"
        },
        "id": "f837a6d5",
        "outputId": "68b143bf-2a0d-4c4e-8aa2-543af366efca"
      },
      "outputs": [
        {
          "output_type": "stream",
          "name": "stdout",
          "text": [
            "278 Pages\n",
            "132 Pages\n",
            "115 Pages\n",
            "505 Pages\n",
            "374 Pages\n",
            "350 Pages\n",
            "220 Pages\n",
            "227 Pages\n",
            "195 Pages\n",
            "360 Pages\n",
            "706 Pages\n",
            "180 Pages\n",
            "161 Pages\n",
            "303 Pages\n",
            "283 Pages\n",
            "352 Pages\n",
            "104 Pages\n",
            "264 Pages\n"
          ]
        }
      ],
      "source": [
        "for num in pages_number:\n",
        "    print(num.text)\n",
        "    pages_numbers.append(num.text.strip())"
      ]
    },
    {
      "cell_type": "code",
      "execution_count": 85,
      "id": "07551cad",
      "metadata": {
        "id": "07551cad"
      },
      "outputs": [],
      "source": [
        "year_of_publications = []\n",
        "year_of_publication = soup.find_all(\"span\", class_=\"fi-year\")"
      ]
    },
    {
      "cell_type": "code",
      "execution_count": 86,
      "id": "75c25565",
      "metadata": {
        "colab": {
          "base_uri": "https://localhost:8080/"
        },
        "id": "75c25565",
        "outputId": "ce545eaa-4f28-4966-df67-cbebc3c24b85"
      },
      "outputs": [
        {
          "output_type": "stream",
          "name": "stdout",
          "text": [
            "2013\n",
            "2015\n",
            "2016\n",
            "2015\n",
            "2017\n",
            "2015\n",
            "2009\n",
            "2012\n",
            "2015\n",
            "2016\n",
            "2013\n",
            "2016\n",
            "2015\n",
            "2016\n",
            "2018\n",
            "2014\n",
            "2009\n",
            "2017\n",
            "2016\n",
            "2014\n"
          ]
        }
      ],
      "source": [
        "for year in year_of_publication:\n",
        "    print(year.text)\n",
        "    year_of_publications.append(year.text.strip())"
      ]
    },
    {
      "cell_type": "code",
      "execution_count": 87,
      "id": "fd1d79aa",
      "metadata": {
        "id": "fd1d79aa"
      },
      "outputs": [],
      "source": [
        "number_of_downloads =[]\n",
        "number_of_download = soup.find_all(\"span\",class_=\"fi-hit\")"
      ]
    },
    {
      "cell_type": "code",
      "execution_count": 88,
      "id": "f7e04cff",
      "metadata": {
        "id": "f7e04cff"
      },
      "outputs": [],
      "source": [
        "for downloaded in number_of_downloads:\n",
        "    print(downloaded.text)\n",
        "    number_of_downloads.append(downloaded.text.strip())"
      ]
    },
    {
      "cell_type": "code",
      "execution_count": 89,
      "id": "448e1a80",
      "metadata": {
        "id": "448e1a80"
      },
      "outputs": [],
      "source": [
        "book_sizes = []\n",
        "book_size = soup.find_all(\"span\", class_=\"fi-size hidemobile\")"
      ]
    },
    {
      "cell_type": "code",
      "execution_count": 90,
      "id": "a2191723",
      "metadata": {
        "colab": {
          "base_uri": "https://localhost:8080/"
        },
        "id": "a2191723",
        "outputId": "4c41557a-2f99-4c61-c997-14c67655bd81"
      },
      "outputs": [
        {
          "output_type": "stream",
          "name": "stdout",
          "text": [
            "1.3 MB\n",
            "546 KB\n",
            "9.89 MB\n",
            "16.64 MB\n",
            "4.37 MB\n",
            "12.05 MB\n",
            "3.04 MB\n",
            "1.11 MB\n",
            "10.04 MB\n",
            "10.79 MB\n",
            "10 MB\n",
            "28.19 MB\n",
            "38.94 MB\n",
            "11.15 MB\n",
            "2.79 MB\n",
            "4.67 MB\n",
            "1.68 MB\n",
            "2.63 MB\n",
            "668 KB\n",
            "5.07 MB\n"
          ]
        }
      ],
      "source": [
        "for size in book_size:\n",
        "    print(size.text)\n",
        "    book_sizes.append(size.text.strip())"
      ]
    },
    {
      "cell_type": "code",
      "execution_count": 91,
      "id": "05920d5d",
      "metadata": {
        "id": "05920d5d"
      },
      "outputs": [],
      "source": [
        "\n",
        "python_books_data = pd.DataFrame(list(zip(book_names, pages_numbers,year_of_publications,book_sizes)), columns = ['book name', 'pages number','year of publication','book size'])"
      ]
    },
    {
      "cell_type": "code",
      "execution_count": 98,
      "id": "c486edaf",
      "metadata": {
        "colab": {
          "base_uri": "https://localhost:8080/",
          "height": 614
        },
        "id": "c486edaf",
        "outputId": "b69bcfc4-992e-4bc6-9dee-fbe104586b7d"
      },
      "outputs": [
        {
          "output_type": "execute_result",
          "data": {
            "text/plain": [
              "                                            book name pages number  \\\n",
              "0   A Python Book: Beginning Python, Advanced Pyth...    278 Pages   \n",
              "1   Learn Python in One Day and Learn It Well: Pyt...    132 Pages   \n",
              "2   Python Programming. Python Programming for Beg...    115 Pages   \n",
              "3   automate the boring stuff with python automate...    505 Pages   \n",
              "4   Mastering Machine Learning with Python in Six ...    374 Pages   \n",
              "5   Python Data Analytics: Data Analysis and Scien...    350 Pages   \n",
              "6   Gray hat Python : Python programming for hacke...    220 Pages   \n",
              "7   A Python Book: Beginning Python, Advanced Pyth...    227 Pages   \n",
              "8   Black hat Python : Python programming for hack...    195 Pages   \n",
              "9   PYTHON PYTHON'S COMPANION, A STEP BY STEP GUID...    360 Pages   \n",
              "10  Python Cookbook, 3rd Edition: Recipes for Mast...    706 Pages   \n",
              "11  The Python Book: The ultimate guide to coding ...    180 Pages   \n",
              "12  The Python Book: The Ultimate Guide to Coding ...    161 Pages   \n",
              "13  Python Practical Python Programming For Beginn...    303 Pages   \n",
              "14  Data Analysis From Scratch With Python: Beginn...    283 Pages   \n",
              "15  Python Algorithms: Mastering Basic Algorithms ...    352 Pages   \n",
              "16  Gray Hat Python: Python Programming for Hacker...    104 Pages   \n",
              "17  Practical Python Design Patterns: Pythonic Sol...    264 Pages   \n",
              "\n",
              "   year of publication book size  \n",
              "0                 2013    1.3 MB  \n",
              "1                 2015    546 KB  \n",
              "2                 2016   9.89 MB  \n",
              "3                 2015  16.64 MB  \n",
              "4                 2017   4.37 MB  \n",
              "5                 2015  12.05 MB  \n",
              "6                 2009   3.04 MB  \n",
              "7                 2012   1.11 MB  \n",
              "8                 2015  10.04 MB  \n",
              "9                 2016  10.79 MB  \n",
              "10                2013     10 MB  \n",
              "11                2016  28.19 MB  \n",
              "12                2015  38.94 MB  \n",
              "13                2016  11.15 MB  \n",
              "14                2018   2.79 MB  \n",
              "15                2014   4.67 MB  \n",
              "16                2009   1.68 MB  \n",
              "17                2017   2.63 MB  "
            ],
            "text/html": [
              "\n",
              "\n",
              "  <div id=\"df-7dd50c9f-6994-4235-a00e-e05d5822c3fe\">\n",
              "    <div class=\"colab-df-container\">\n",
              "      <div>\n",
              "<style scoped>\n",
              "    .dataframe tbody tr th:only-of-type {\n",
              "        vertical-align: middle;\n",
              "    }\n",
              "\n",
              "    .dataframe tbody tr th {\n",
              "        vertical-align: top;\n",
              "    }\n",
              "\n",
              "    .dataframe thead th {\n",
              "        text-align: right;\n",
              "    }\n",
              "</style>\n",
              "<table border=\"1\" class=\"dataframe\">\n",
              "  <thead>\n",
              "    <tr style=\"text-align: right;\">\n",
              "      <th></th>\n",
              "      <th>book name</th>\n",
              "      <th>pages number</th>\n",
              "      <th>year of publication</th>\n",
              "      <th>book size</th>\n",
              "    </tr>\n",
              "  </thead>\n",
              "  <tbody>\n",
              "    <tr>\n",
              "      <th>0</th>\n",
              "      <td>A Python Book: Beginning Python, Advanced Pyth...</td>\n",
              "      <td>278 Pages</td>\n",
              "      <td>2013</td>\n",
              "      <td>1.3 MB</td>\n",
              "    </tr>\n",
              "    <tr>\n",
              "      <th>1</th>\n",
              "      <td>Learn Python in One Day and Learn It Well: Pyt...</td>\n",
              "      <td>132 Pages</td>\n",
              "      <td>2015</td>\n",
              "      <td>546 KB</td>\n",
              "    </tr>\n",
              "    <tr>\n",
              "      <th>2</th>\n",
              "      <td>Python Programming. Python Programming for Beg...</td>\n",
              "      <td>115 Pages</td>\n",
              "      <td>2016</td>\n",
              "      <td>9.89 MB</td>\n",
              "    </tr>\n",
              "    <tr>\n",
              "      <th>3</th>\n",
              "      <td>automate the boring stuff with python automate...</td>\n",
              "      <td>505 Pages</td>\n",
              "      <td>2015</td>\n",
              "      <td>16.64 MB</td>\n",
              "    </tr>\n",
              "    <tr>\n",
              "      <th>4</th>\n",
              "      <td>Mastering Machine Learning with Python in Six ...</td>\n",
              "      <td>374 Pages</td>\n",
              "      <td>2017</td>\n",
              "      <td>4.37 MB</td>\n",
              "    </tr>\n",
              "    <tr>\n",
              "      <th>5</th>\n",
              "      <td>Python Data Analytics: Data Analysis and Scien...</td>\n",
              "      <td>350 Pages</td>\n",
              "      <td>2015</td>\n",
              "      <td>12.05 MB</td>\n",
              "    </tr>\n",
              "    <tr>\n",
              "      <th>6</th>\n",
              "      <td>Gray hat Python : Python programming for hacke...</td>\n",
              "      <td>220 Pages</td>\n",
              "      <td>2009</td>\n",
              "      <td>3.04 MB</td>\n",
              "    </tr>\n",
              "    <tr>\n",
              "      <th>7</th>\n",
              "      <td>A Python Book: Beginning Python, Advanced Pyth...</td>\n",
              "      <td>227 Pages</td>\n",
              "      <td>2012</td>\n",
              "      <td>1.11 MB</td>\n",
              "    </tr>\n",
              "    <tr>\n",
              "      <th>8</th>\n",
              "      <td>Black hat Python : Python programming for hack...</td>\n",
              "      <td>195 Pages</td>\n",
              "      <td>2015</td>\n",
              "      <td>10.04 MB</td>\n",
              "    </tr>\n",
              "    <tr>\n",
              "      <th>9</th>\n",
              "      <td>PYTHON PYTHON'S COMPANION, A STEP BY STEP GUID...</td>\n",
              "      <td>360 Pages</td>\n",
              "      <td>2016</td>\n",
              "      <td>10.79 MB</td>\n",
              "    </tr>\n",
              "    <tr>\n",
              "      <th>10</th>\n",
              "      <td>Python Cookbook, 3rd Edition: Recipes for Mast...</td>\n",
              "      <td>706 Pages</td>\n",
              "      <td>2013</td>\n",
              "      <td>10 MB</td>\n",
              "    </tr>\n",
              "    <tr>\n",
              "      <th>11</th>\n",
              "      <td>The Python Book: The ultimate guide to coding ...</td>\n",
              "      <td>180 Pages</td>\n",
              "      <td>2016</td>\n",
              "      <td>28.19 MB</td>\n",
              "    </tr>\n",
              "    <tr>\n",
              "      <th>12</th>\n",
              "      <td>The Python Book: The Ultimate Guide to Coding ...</td>\n",
              "      <td>161 Pages</td>\n",
              "      <td>2015</td>\n",
              "      <td>38.94 MB</td>\n",
              "    </tr>\n",
              "    <tr>\n",
              "      <th>13</th>\n",
              "      <td>Python Practical Python Programming For Beginn...</td>\n",
              "      <td>303 Pages</td>\n",
              "      <td>2016</td>\n",
              "      <td>11.15 MB</td>\n",
              "    </tr>\n",
              "    <tr>\n",
              "      <th>14</th>\n",
              "      <td>Data Analysis From Scratch With Python: Beginn...</td>\n",
              "      <td>283 Pages</td>\n",
              "      <td>2018</td>\n",
              "      <td>2.79 MB</td>\n",
              "    </tr>\n",
              "    <tr>\n",
              "      <th>15</th>\n",
              "      <td>Python Algorithms: Mastering Basic Algorithms ...</td>\n",
              "      <td>352 Pages</td>\n",
              "      <td>2014</td>\n",
              "      <td>4.67 MB</td>\n",
              "    </tr>\n",
              "    <tr>\n",
              "      <th>16</th>\n",
              "      <td>Gray Hat Python: Python Programming for Hacker...</td>\n",
              "      <td>104 Pages</td>\n",
              "      <td>2009</td>\n",
              "      <td>1.68 MB</td>\n",
              "    </tr>\n",
              "    <tr>\n",
              "      <th>17</th>\n",
              "      <td>Practical Python Design Patterns: Pythonic Sol...</td>\n",
              "      <td>264 Pages</td>\n",
              "      <td>2017</td>\n",
              "      <td>2.63 MB</td>\n",
              "    </tr>\n",
              "  </tbody>\n",
              "</table>\n",
              "</div>\n",
              "      <button class=\"colab-df-convert\" onclick=\"convertToInteractive('df-7dd50c9f-6994-4235-a00e-e05d5822c3fe')\"\n",
              "              title=\"Convert this dataframe to an interactive table.\"\n",
              "              style=\"display:none;\">\n",
              "\n",
              "  <svg xmlns=\"http://www.w3.org/2000/svg\" height=\"24px\"viewBox=\"0 0 24 24\"\n",
              "       width=\"24px\">\n",
              "    <path d=\"M0 0h24v24H0V0z\" fill=\"none\"/>\n",
              "    <path d=\"M18.56 5.44l.94 2.06.94-2.06 2.06-.94-2.06-.94-.94-2.06-.94 2.06-2.06.94zm-11 1L8.5 8.5l.94-2.06 2.06-.94-2.06-.94L8.5 2.5l-.94 2.06-2.06.94zm10 10l.94 2.06.94-2.06 2.06-.94-2.06-.94-.94-2.06-.94 2.06-2.06.94z\"/><path d=\"M17.41 7.96l-1.37-1.37c-.4-.4-.92-.59-1.43-.59-.52 0-1.04.2-1.43.59L10.3 9.45l-7.72 7.72c-.78.78-.78 2.05 0 2.83L4 21.41c.39.39.9.59 1.41.59.51 0 1.02-.2 1.41-.59l7.78-7.78 2.81-2.81c.8-.78.8-2.07 0-2.86zM5.41 20L4 18.59l7.72-7.72 1.47 1.35L5.41 20z\"/>\n",
              "  </svg>\n",
              "      </button>\n",
              "\n",
              "\n",
              "\n",
              "    <div id=\"df-c49e34e9-c309-402c-b281-b468a56d9f2c\">\n",
              "      <button class=\"colab-df-quickchart\" onclick=\"quickchart('df-c49e34e9-c309-402c-b281-b468a56d9f2c')\"\n",
              "              title=\"Suggest charts.\"\n",
              "              style=\"display:none;\">\n",
              "\n",
              "<svg xmlns=\"http://www.w3.org/2000/svg\" height=\"24px\"viewBox=\"0 0 24 24\"\n",
              "     width=\"24px\">\n",
              "    <g>\n",
              "        <path d=\"M19 3H5c-1.1 0-2 .9-2 2v14c0 1.1.9 2 2 2h14c1.1 0 2-.9 2-2V5c0-1.1-.9-2-2-2zM9 17H7v-7h2v7zm4 0h-2V7h2v10zm4 0h-2v-4h2v4z\"/>\n",
              "    </g>\n",
              "</svg>\n",
              "      </button>\n",
              "    </div>\n",
              "\n",
              "<style>\n",
              "  .colab-df-quickchart {\n",
              "    background-color: #E8F0FE;\n",
              "    border: none;\n",
              "    border-radius: 50%;\n",
              "    cursor: pointer;\n",
              "    display: none;\n",
              "    fill: #1967D2;\n",
              "    height: 32px;\n",
              "    padding: 0 0 0 0;\n",
              "    width: 32px;\n",
              "  }\n",
              "\n",
              "  .colab-df-quickchart:hover {\n",
              "    background-color: #E2EBFA;\n",
              "    box-shadow: 0px 1px 2px rgba(60, 64, 67, 0.3), 0px 1px 3px 1px rgba(60, 64, 67, 0.15);\n",
              "    fill: #174EA6;\n",
              "  }\n",
              "\n",
              "  [theme=dark] .colab-df-quickchart {\n",
              "    background-color: #3B4455;\n",
              "    fill: #D2E3FC;\n",
              "  }\n",
              "\n",
              "  [theme=dark] .colab-df-quickchart:hover {\n",
              "    background-color: #434B5C;\n",
              "    box-shadow: 0px 1px 3px 1px rgba(0, 0, 0, 0.15);\n",
              "    filter: drop-shadow(0px 1px 2px rgba(0, 0, 0, 0.3));\n",
              "    fill: #FFFFFF;\n",
              "  }\n",
              "</style>\n",
              "\n",
              "    <script>\n",
              "      async function quickchart(key) {\n",
              "        const containerElement = document.querySelector('#' + key);\n",
              "        const charts = await google.colab.kernel.invokeFunction(\n",
              "            'suggestCharts', [key], {});\n",
              "      }\n",
              "    </script>\n",
              "\n",
              "      <script>\n",
              "\n",
              "function displayQuickchartButton(domScope) {\n",
              "  let quickchartButtonEl =\n",
              "    domScope.querySelector('#df-c49e34e9-c309-402c-b281-b468a56d9f2c button.colab-df-quickchart');\n",
              "  quickchartButtonEl.style.display =\n",
              "    google.colab.kernel.accessAllowed ? 'block' : 'none';\n",
              "}\n",
              "\n",
              "        displayQuickchartButton(document);\n",
              "      </script>\n",
              "      <style>\n",
              "    .colab-df-container {\n",
              "      display:flex;\n",
              "      flex-wrap:wrap;\n",
              "      gap: 12px;\n",
              "    }\n",
              "\n",
              "    .colab-df-convert {\n",
              "      background-color: #E8F0FE;\n",
              "      border: none;\n",
              "      border-radius: 50%;\n",
              "      cursor: pointer;\n",
              "      display: none;\n",
              "      fill: #1967D2;\n",
              "      height: 32px;\n",
              "      padding: 0 0 0 0;\n",
              "      width: 32px;\n",
              "    }\n",
              "\n",
              "    .colab-df-convert:hover {\n",
              "      background-color: #E2EBFA;\n",
              "      box-shadow: 0px 1px 2px rgba(60, 64, 67, 0.3), 0px 1px 3px 1px rgba(60, 64, 67, 0.15);\n",
              "      fill: #174EA6;\n",
              "    }\n",
              "\n",
              "    [theme=dark] .colab-df-convert {\n",
              "      background-color: #3B4455;\n",
              "      fill: #D2E3FC;\n",
              "    }\n",
              "\n",
              "    [theme=dark] .colab-df-convert:hover {\n",
              "      background-color: #434B5C;\n",
              "      box-shadow: 0px 1px 3px 1px rgba(0, 0, 0, 0.15);\n",
              "      filter: drop-shadow(0px 1px 2px rgba(0, 0, 0, 0.3));\n",
              "      fill: #FFFFFF;\n",
              "    }\n",
              "  </style>\n",
              "\n",
              "      <script>\n",
              "        const buttonEl =\n",
              "          document.querySelector('#df-7dd50c9f-6994-4235-a00e-e05d5822c3fe button.colab-df-convert');\n",
              "        buttonEl.style.display =\n",
              "          google.colab.kernel.accessAllowed ? 'block' : 'none';\n",
              "\n",
              "        async function convertToInteractive(key) {\n",
              "          const element = document.querySelector('#df-7dd50c9f-6994-4235-a00e-e05d5822c3fe');\n",
              "          const dataTable =\n",
              "            await google.colab.kernel.invokeFunction('convertToInteractive',\n",
              "                                                     [key], {});\n",
              "          if (!dataTable) return;\n",
              "\n",
              "          const docLinkHtml = 'Like what you see? Visit the ' +\n",
              "            '<a target=\"_blank\" href=https://colab.research.google.com/notebooks/data_table.ipynb>data table notebook</a>'\n",
              "            + ' to learn more about interactive tables.';\n",
              "          element.innerHTML = '';\n",
              "          dataTable['output_type'] = 'display_data';\n",
              "          await google.colab.output.renderOutput(dataTable, element);\n",
              "          const docLink = document.createElement('div');\n",
              "          docLink.innerHTML = docLinkHtml;\n",
              "          element.appendChild(docLink);\n",
              "        }\n",
              "      </script>\n",
              "    </div>\n",
              "  </div>\n"
            ]
          },
          "metadata": {},
          "execution_count": 98
        }
      ],
      "source": [
        "python_books_data"
      ]
    },
    {
      "cell_type": "code",
      "source": [
        "python_books_data.info()"
      ],
      "metadata": {
        "colab": {
          "base_uri": "https://localhost:8080/"
        },
        "id": "HEu6T1ZPw1OW",
        "outputId": "c6f4c4df-687c-4e6b-9f95-4581e7ed61dd"
      },
      "id": "HEu6T1ZPw1OW",
      "execution_count": 100,
      "outputs": [
        {
          "output_type": "stream",
          "name": "stdout",
          "text": [
            "<class 'pandas.core.frame.DataFrame'>\n",
            "RangeIndex: 18 entries, 0 to 17\n",
            "Data columns (total 4 columns):\n",
            " #   Column               Non-Null Count  Dtype \n",
            "---  ------               --------------  ----- \n",
            " 0   book name            18 non-null     object\n",
            " 1   pages number         18 non-null     object\n",
            " 2   year of publication  18 non-null     object\n",
            " 3   book size            18 non-null     object\n",
            "dtypes: object(4)\n",
            "memory usage: 704.0+ bytes\n"
          ]
        }
      ]
    },
    {
      "cell_type": "code",
      "source": [
        "# # lw grbna n3ml print(python_books_data) httl3lna multi dimensional list\n",
        "# leeh??? ---> l2n ana 3mlt zip() lkol l lists bto3i w 3amltohm fe list wa7da bs b est5dam method  list()\n",
        "# taib leeh 3adi at3aml m3aha 3la asas enha data frame 3adi w ast5dm .info() w 8irha mn methods bst5dmha fe 3la data frames ??\n",
        "# ---> l2n 7wltha l pandas data frame b est5dam method pd.DataFrame()"
      ],
      "metadata": {
        "id": "mE9eMUgUw6-e"
      },
      "id": "mE9eMUgUw6-e",
      "execution_count": null,
      "outputs": []
    }
  ],
  "metadata": {
    "kernelspec": {
      "display_name": "Python 3",
      "language": "python",
      "name": "python3"
    },
    "language_info": {
      "codemirror_mode": {
        "name": "ipython",
        "version": 3
      },
      "file_extension": ".py",
      "mimetype": "text/x-python",
      "name": "python",
      "nbconvert_exporter": "python",
      "pygments_lexer": "ipython3",
      "version": "3.9.13"
    },
    "vscode": {
      "interpreter": {
        "hash": "bf4fbbcfb44b62809ee9ef976aff62d8f85ac4ea82e40788fda9594addf376e6"
      }
    },
    "colab": {
      "provenance": []
    }
  },
  "nbformat": 4,
  "nbformat_minor": 5
}