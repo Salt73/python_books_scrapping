{
 "cells": [
  {
   "cell_type": "code",
   "execution_count": null,
   "id": "9b5b90ab",
   "metadata": {},
   "outputs": [],
   "source": [
    "import requests\n",
    "from bs4 import BeautifulSoup\n",
    "import numpy as np\n",
    "import pandas as pd"
   ]
  },
  {
   "cell_type": "code",
   "execution_count": null,
   "id": "9fbffe70",
   "metadata": {},
   "outputs": [],
   "source": [
    "url = \"https://www.pdfdrive.com/python-books.html\"\n",
    "page = requests.get(url,headers={'User-Agent':'Mozilla/5.0'})\n",
    "soup = BeautifulSoup(page.content,\"html.parser\")\n"
   ]
  },
  {
   "cell_type": "code",
   "execution_count": null,
   "id": "97bea19c",
   "metadata": {},
   "outputs": [],
   "source": [
    "book_name = []\n",
    "book_name = soup.find_all(\"h2\")"
   ]
  },
  {
   "cell_type": "code",
   "execution_count": null,
   "id": "4c576bb9",
   "metadata": {},
   "outputs": [],
   "source": [
    "for name in book_name:\n",
    "    print(name.text)"
   ]
  },
  {
   "cell_type": "code",
   "execution_count": null,
   "id": "49d96609",
   "metadata": {
    "scrolled": true
   },
   "outputs": [],
   "source": [
    "# book_link = []\n",
    "# for x in range(len(book_name)):\n",
    "   \n",
    "#    book_link.append(\"https://www.pdfdrive.com/\"+book_name[x].find('a').attrs['href'])\n",
    "\n",
    "    \n",
    "# #     for h in book_name[x].findAll('a'):\n",
    "# #         a = h.find(a.attrs)\n",
    "\n",
    "# #         if a is not None and 'href' in a.attrs:\n",
    "# #             l = a.get('href')\n",
    "# #             print(l)"
   ]
  },
  {
   "cell_type": "code",
   "execution_count": null,
   "id": "9590cced",
   "metadata": {},
   "outputs": [],
   "source": [
    "pages_number = []\n",
    "pages_number = soup.find_all(\"span\",class_=\"fi-pagecount\")"
   ]
  },
  {
   "cell_type": "code",
   "execution_count": null,
   "id": "f837a6d5",
   "metadata": {},
   "outputs": [],
   "source": [
    "for num in pages_number:\n",
    "    print(num.text)"
   ]
  },
  {
   "cell_type": "code",
   "execution_count": null,
   "id": "07551cad",
   "metadata": {},
   "outputs": [],
   "source": [
    "year_of_publication = []\n",
    "year_of_publication = soup.find_all(\"span\", class_=\"fi-year\")"
   ]
  },
  {
   "cell_type": "code",
   "execution_count": null,
   "id": "75c25565",
   "metadata": {},
   "outputs": [],
   "source": [
    "for year in year_of_publication:\n",
    "    print(year.text)"
   ]
  },
  {
   "cell_type": "code",
   "execution_count": null,
   "id": "fd1d79aa",
   "metadata": {},
   "outputs": [],
   "source": [
    "number_of_downloads =[]\n",
    "number_of_downloads = soup.find_all(\"span\",class_=\"fi-hit\")"
   ]
  },
  {
   "cell_type": "code",
   "execution_count": null,
   "id": "f7e04cff",
   "metadata": {},
   "outputs": [],
   "source": [
    "for downloaded in number_of_downloads:\n",
    "    print(downloaded.text)"
   ]
  },
  {
   "cell_type": "code",
   "execution_count": null,
   "id": "448e1a80",
   "metadata": {},
   "outputs": [],
   "source": [
    "book_size = []\n",
    "book_size = soup.find_all(\"span\", class_=\"fi-size hidemobile\")"
   ]
  },
  {
   "cell_type": "code",
   "execution_count": null,
   "id": "a2191723",
   "metadata": {},
   "outputs": [],
   "source": [
    "for size in book_size:\n",
    "    print(size.text)"
   ]
  },
  {
   "cell_type": "code",
   "execution_count": null,
   "id": "91c6f115",
   "metadata": {},
   "outputs": [],
   "source": [
    "def scrap_pybooks_pdf_drive(i):\n",
    "    import requests\n",
    "    from bs4 import BeautifulSoup\n",
    "    url = \"https://www.pdfdrive.com/\"+\"search?q=python&pagecount=&pubyear=&searchin=&page=\"+str(i)\n",
    "    page = requests.get(url,headers={'User-Agent':'Mozilla/5.0'})\n",
    "    soup = BeautifulSoup(page.content,\"html.parser\")\n",
    "    book_name = []\n",
    "    book_name = soup.find_all(\"h2\")\n",
    "    for name in book_name:     \n",
    "        #for ii in range(len(book_name)):\n",
    "        print(name.text)\n",
    "        book_name.append(name)\n",
    "        #______________________________________________________________\n",
    "    pages_number = []\n",
    "    pages_number = soup.find_all(\"span\",class_=\"fi-pagecount\")\n",
    "    for num in pages_number:      \n",
    "        #for iii in range(len(pages_number)):\n",
    "        print(num.text)\n",
    "        pages_number.append(num)\n",
    "        #__________________________________________________________\n",
    "    year_of_publication = []\n",
    "    year_of_publication = soup.find_all(\"span\", class_=\"fi-year\")\n",
    "    for year in year_of_publication:        \n",
    "        #for iv in range(len(year_of_publication)):\n",
    "        print(year.text)\n",
    "        year_of_publication.append(year)\n",
    "        #___________________________________________________________________\n",
    "    number_of_downloads =[]\n",
    "    number_of_downloads = soup.find_all(\"span\",class_=\"fi-hit\")     \n",
    "    for downloaded in number_of_downloads:        \n",
    "        #for v in range(len(number_of_downloads)):\n",
    "        print(downloaded.text)\n",
    "        number_of_downloads.append(download)\n",
    "        #________________________________________________________________\n",
    "    book_size = []\n",
    "    book_size = soup.find_all(\"span\", class_=\"fi-size hidemobile\")\n",
    "    for size in book_size:        \n",
    "        #for vi in range(len(book_size)):\n",
    "        print(size.text)\n",
    "        book_size.append(size)\n",
    "#_____________________________________________________________________________________________________________\n",
    "    \n",
    "          \n",
    "   \n",
    "    "
   ]
  },
  {
   "cell_type": "code",
   "execution_count": null,
   "id": "e76385f2",
   "metadata": {},
   "outputs": [],
   "source": [
    "for v in range(81):\n",
    "    i=v+1\n",
    "    scrap_pybooks_pdf_drive(i)"
   ]
  },
  {
   "cell_type": "code",
   "execution_count": null,
   "id": "05920d5d",
   "metadata": {},
   "outputs": [],
   "source": [
    "df = pd.DataFrame(list(zip(book_name, pages_number , year_of_publication , number_of_downloads , book_size)),\n",
    "               columns =['book name', 'pages number', 'year of publication','number of downloads' , 'book size'])"
   ]
  },
  {
   "cell_type": "code",
   "execution_count": null,
   "id": "dfffd261",
   "metadata": {},
   "outputs": [],
   "source": [
    "python_books_data = df.to_csv()"
   ]
  },
  {
   "cell_type": "code",
   "execution_count": null,
   "id": "c486edaf",
   "metadata": {},
   "outputs": [],
   "source": [
    "python_books_data"
   ]
  },
  {
   "cell_type": "code",
   "execution_count": null,
   "id": "2f7f2696",
   "metadata": {},
   "outputs": [],
   "source": [
    "df"
   ]
  },
  {
   "cell_type": "code",
   "execution_count": null,
   "id": "4ea8bc94",
   "metadata": {},
   "outputs": [],
   "source": []
  }
 ],
 "metadata": {
  "kernelspec": {
   "display_name": "Python 3",
   "language": "python",
   "name": "python3"
  },
  "language_info": {
   "codemirror_mode": {
    "name": "ipython",
    "version": 3
   },
   "file_extension": ".py",
   "mimetype": "text/x-python",
   "name": "python",
   "nbconvert_exporter": "python",
   "pygments_lexer": "ipython3",
   "version": "3.9.13"
  },
  "vscode": {
   "interpreter": {
    "hash": "bf4fbbcfb44b62809ee9ef976aff62d8f85ac4ea82e40788fda9594addf376e6"
   }
  }
 },
 "nbformat": 4,
 "nbformat_minor": 5
}
